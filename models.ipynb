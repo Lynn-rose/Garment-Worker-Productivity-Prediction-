{
 "cells": [
  {
   "cell_type": "markdown",
   "metadata": {},
   "source": [
    "## 1. Machine Learning Model Selection and Evaluation\n",
    "\n",
    "We begin by importing necessary libraries"
   ]
  },
  {
   "cell_type": "code",
   "execution_count": 1,
   "metadata": {},
   "outputs": [],
   "source": [
    "# Importing necessary libraries\n",
    "# General libraries\n",
    "import numpy as np\n",
    "import pandas as pd\n",
    "from sklearn.model_selection import train_test_split, GridSearchCV, cross_val_score\n",
    "from sklearn.metrics import mean_absolute_error, mean_squared_error, r2_score\n",
    "\n",
    "# Models\n",
    "from sklearn.linear_model import LinearRegression, Ridge, Lasso\n",
    "from sklearn.ensemble import RandomForestRegressor, GradientBoostingRegressor, AdaBoostRegressor\n",
    "from xgboost import XGBRegressor\n",
    "from sklearn.tree import DecisionTreeRegressor\n",
    "from sklearn.svm import SVR"
   ]
  },
  {
   "cell_type": "markdown",
   "metadata": {},
   "source": [
    " In the cell below, `cleaned_data.csv` as `model_df`:"
   ]
  },
  {
   "cell_type": "code",
   "execution_count": 2,
   "metadata": {},
   "outputs": [
    {
     "data": {
      "text/html": [
       "<div>\n",
       "<style scoped>\n",
       "    .dataframe tbody tr th:only-of-type {\n",
       "        vertical-align: middle;\n",
       "    }\n",
       "\n",
       "    .dataframe tbody tr th {\n",
       "        vertical-align: top;\n",
       "    }\n",
       "\n",
       "    .dataframe thead th {\n",
       "        text-align: right;\n",
       "    }\n",
       "</style>\n",
       "<table border=\"1\" class=\"dataframe\">\n",
       "  <thead>\n",
       "    <tr style=\"text-align: right;\">\n",
       "      <th></th>\n",
       "      <th>team</th>\n",
       "      <th>targeted_productivity</th>\n",
       "      <th>smv</th>\n",
       "      <th>wip</th>\n",
       "      <th>over_time</th>\n",
       "      <th>incentive</th>\n",
       "      <th>idle_time</th>\n",
       "      <th>idle_men</th>\n",
       "      <th>no_of_style_change</th>\n",
       "      <th>no_of_workers</th>\n",
       "      <th>actual_productivity</th>\n",
       "      <th>quarter_Quarter1</th>\n",
       "      <th>quarter_Quarter2</th>\n",
       "      <th>quarter_Quarter3</th>\n",
       "      <th>quarter_Quarter4</th>\n",
       "      <th>quarter_Quarter5</th>\n",
       "      <th>department_finishing</th>\n",
       "      <th>department_sweing</th>\n",
       "      <th>month</th>\n",
       "      <th>day_of_week</th>\n",
       "    </tr>\n",
       "  </thead>\n",
       "  <tbody>\n",
       "    <tr>\n",
       "      <th>0</th>\n",
       "      <td>8</td>\n",
       "      <td>0.80</td>\n",
       "      <td>1.014552</td>\n",
       "      <td>1108.0</td>\n",
       "      <td>0.750589</td>\n",
       "      <td>98</td>\n",
       "      <td>0.0</td>\n",
       "      <td>0</td>\n",
       "      <td>0</td>\n",
       "      <td>59.0</td>\n",
       "      <td>0.940725</td>\n",
       "      <td>1</td>\n",
       "      <td>0</td>\n",
       "      <td>0</td>\n",
       "      <td>0</td>\n",
       "      <td>0</td>\n",
       "      <td>0</td>\n",
       "      <td>1</td>\n",
       "      <td>1</td>\n",
       "      <td>3</td>\n",
       "    </tr>\n",
       "    <tr>\n",
       "      <th>1</th>\n",
       "      <td>1</td>\n",
       "      <td>0.75</td>\n",
       "      <td>-1.016778</td>\n",
       "      <td>1039.0</td>\n",
       "      <td>-1.077682</td>\n",
       "      <td>0</td>\n",
       "      <td>0.0</td>\n",
       "      <td>0</td>\n",
       "      <td>0</td>\n",
       "      <td>8.0</td>\n",
       "      <td>0.886500</td>\n",
       "      <td>1</td>\n",
       "      <td>0</td>\n",
       "      <td>0</td>\n",
       "      <td>0</td>\n",
       "      <td>0</td>\n",
       "      <td>1</td>\n",
       "      <td>0</td>\n",
       "      <td>1</td>\n",
       "      <td>3</td>\n",
       "    </tr>\n",
       "    <tr>\n",
       "      <th>2</th>\n",
       "      <td>11</td>\n",
       "      <td>0.80</td>\n",
       "      <td>-0.333878</td>\n",
       "      <td>968.0</td>\n",
       "      <td>-0.271092</td>\n",
       "      <td>50</td>\n",
       "      <td>0.0</td>\n",
       "      <td>0</td>\n",
       "      <td>0</td>\n",
       "      <td>30.5</td>\n",
       "      <td>0.800570</td>\n",
       "      <td>1</td>\n",
       "      <td>0</td>\n",
       "      <td>0</td>\n",
       "      <td>0</td>\n",
       "      <td>0</td>\n",
       "      <td>0</td>\n",
       "      <td>1</td>\n",
       "      <td>1</td>\n",
       "      <td>3</td>\n",
       "    </tr>\n",
       "    <tr>\n",
       "      <th>3</th>\n",
       "      <td>12</td>\n",
       "      <td>0.80</td>\n",
       "      <td>-0.333878</td>\n",
       "      <td>968.0</td>\n",
       "      <td>-0.271092</td>\n",
       "      <td>50</td>\n",
       "      <td>0.0</td>\n",
       "      <td>0</td>\n",
       "      <td>0</td>\n",
       "      <td>30.5</td>\n",
       "      <td>0.800570</td>\n",
       "      <td>1</td>\n",
       "      <td>0</td>\n",
       "      <td>0</td>\n",
       "      <td>0</td>\n",
       "      <td>0</td>\n",
       "      <td>0</td>\n",
       "      <td>1</td>\n",
       "      <td>1</td>\n",
       "      <td>3</td>\n",
       "    </tr>\n",
       "    <tr>\n",
       "      <th>4</th>\n",
       "      <td>6</td>\n",
       "      <td>0.80</td>\n",
       "      <td>0.990783</td>\n",
       "      <td>1170.0</td>\n",
       "      <td>-0.790895</td>\n",
       "      <td>50</td>\n",
       "      <td>0.0</td>\n",
       "      <td>0</td>\n",
       "      <td>0</td>\n",
       "      <td>56.0</td>\n",
       "      <td>0.800382</td>\n",
       "      <td>1</td>\n",
       "      <td>0</td>\n",
       "      <td>0</td>\n",
       "      <td>0</td>\n",
       "      <td>0</td>\n",
       "      <td>0</td>\n",
       "      <td>1</td>\n",
       "      <td>1</td>\n",
       "      <td>3</td>\n",
       "    </tr>\n",
       "    <tr>\n",
       "      <th>...</th>\n",
       "      <td>...</td>\n",
       "      <td>...</td>\n",
       "      <td>...</td>\n",
       "      <td>...</td>\n",
       "      <td>...</td>\n",
       "      <td>...</td>\n",
       "      <td>...</td>\n",
       "      <td>...</td>\n",
       "      <td>...</td>\n",
       "      <td>...</td>\n",
       "      <td>...</td>\n",
       "      <td>...</td>\n",
       "      <td>...</td>\n",
       "      <td>...</td>\n",
       "      <td>...</td>\n",
       "      <td>...</td>\n",
       "      <td>...</td>\n",
       "      <td>...</td>\n",
       "      <td>...</td>\n",
       "      <td>...</td>\n",
       "    </tr>\n",
       "    <tr>\n",
       "      <th>1192</th>\n",
       "      <td>10</td>\n",
       "      <td>0.75</td>\n",
       "      <td>-1.111853</td>\n",
       "      <td>1039.0</td>\n",
       "      <td>-1.077682</td>\n",
       "      <td>0</td>\n",
       "      <td>0.0</td>\n",
       "      <td>0</td>\n",
       "      <td>0</td>\n",
       "      <td>8.0</td>\n",
       "      <td>0.628333</td>\n",
       "      <td>0</td>\n",
       "      <td>1</td>\n",
       "      <td>0</td>\n",
       "      <td>0</td>\n",
       "      <td>0</td>\n",
       "      <td>1</td>\n",
       "      <td>0</td>\n",
       "      <td>3</td>\n",
       "      <td>2</td>\n",
       "    </tr>\n",
       "    <tr>\n",
       "      <th>1193</th>\n",
       "      <td>8</td>\n",
       "      <td>0.70</td>\n",
       "      <td>-1.020434</td>\n",
       "      <td>1039.0</td>\n",
       "      <td>-1.077682</td>\n",
       "      <td>0</td>\n",
       "      <td>0.0</td>\n",
       "      <td>0</td>\n",
       "      <td>0</td>\n",
       "      <td>8.0</td>\n",
       "      <td>0.625625</td>\n",
       "      <td>0</td>\n",
       "      <td>1</td>\n",
       "      <td>0</td>\n",
       "      <td>0</td>\n",
       "      <td>0</td>\n",
       "      <td>1</td>\n",
       "      <td>0</td>\n",
       "      <td>3</td>\n",
       "      <td>2</td>\n",
       "    </tr>\n",
       "    <tr>\n",
       "      <th>1194</th>\n",
       "      <td>7</td>\n",
       "      <td>0.65</td>\n",
       "      <td>-1.020434</td>\n",
       "      <td>1039.0</td>\n",
       "      <td>-1.077682</td>\n",
       "      <td>0</td>\n",
       "      <td>0.0</td>\n",
       "      <td>0</td>\n",
       "      <td>0</td>\n",
       "      <td>8.0</td>\n",
       "      <td>0.625625</td>\n",
       "      <td>0</td>\n",
       "      <td>1</td>\n",
       "      <td>0</td>\n",
       "      <td>0</td>\n",
       "      <td>0</td>\n",
       "      <td>1</td>\n",
       "      <td>0</td>\n",
       "      <td>3</td>\n",
       "      <td>2</td>\n",
       "    </tr>\n",
       "    <tr>\n",
       "      <th>1195</th>\n",
       "      <td>9</td>\n",
       "      <td>0.75</td>\n",
       "      <td>-1.111853</td>\n",
       "      <td>1039.0</td>\n",
       "      <td>-0.826743</td>\n",
       "      <td>0</td>\n",
       "      <td>0.0</td>\n",
       "      <td>0</td>\n",
       "      <td>0</td>\n",
       "      <td>15.0</td>\n",
       "      <td>0.505889</td>\n",
       "      <td>0</td>\n",
       "      <td>1</td>\n",
       "      <td>0</td>\n",
       "      <td>0</td>\n",
       "      <td>0</td>\n",
       "      <td>1</td>\n",
       "      <td>0</td>\n",
       "      <td>3</td>\n",
       "      <td>2</td>\n",
       "    </tr>\n",
       "    <tr>\n",
       "      <th>1196</th>\n",
       "      <td>6</td>\n",
       "      <td>0.70</td>\n",
       "      <td>-1.111853</td>\n",
       "      <td>1039.0</td>\n",
       "      <td>-1.149379</td>\n",
       "      <td>0</td>\n",
       "      <td>0.0</td>\n",
       "      <td>0</td>\n",
       "      <td>0</td>\n",
       "      <td>6.0</td>\n",
       "      <td>0.394722</td>\n",
       "      <td>0</td>\n",
       "      <td>1</td>\n",
       "      <td>0</td>\n",
       "      <td>0</td>\n",
       "      <td>0</td>\n",
       "      <td>1</td>\n",
       "      <td>0</td>\n",
       "      <td>3</td>\n",
       "      <td>2</td>\n",
       "    </tr>\n",
       "  </tbody>\n",
       "</table>\n",
       "<p>1197 rows × 20 columns</p>\n",
       "</div>"
      ],
      "text/plain": [
       "      team  targeted_productivity       smv     wip  over_time  incentive  \\\n",
       "0        8                   0.80  1.014552  1108.0   0.750589         98   \n",
       "1        1                   0.75 -1.016778  1039.0  -1.077682          0   \n",
       "2       11                   0.80 -0.333878   968.0  -0.271092         50   \n",
       "3       12                   0.80 -0.333878   968.0  -0.271092         50   \n",
       "4        6                   0.80  0.990783  1170.0  -0.790895         50   \n",
       "...    ...                    ...       ...     ...        ...        ...   \n",
       "1192    10                   0.75 -1.111853  1039.0  -1.077682          0   \n",
       "1193     8                   0.70 -1.020434  1039.0  -1.077682          0   \n",
       "1194     7                   0.65 -1.020434  1039.0  -1.077682          0   \n",
       "1195     9                   0.75 -1.111853  1039.0  -0.826743          0   \n",
       "1196     6                   0.70 -1.111853  1039.0  -1.149379          0   \n",
       "\n",
       "      idle_time  idle_men  no_of_style_change  no_of_workers  \\\n",
       "0           0.0         0                   0           59.0   \n",
       "1           0.0         0                   0            8.0   \n",
       "2           0.0         0                   0           30.5   \n",
       "3           0.0         0                   0           30.5   \n",
       "4           0.0         0                   0           56.0   \n",
       "...         ...       ...                 ...            ...   \n",
       "1192        0.0         0                   0            8.0   \n",
       "1193        0.0         0                   0            8.0   \n",
       "1194        0.0         0                   0            8.0   \n",
       "1195        0.0         0                   0           15.0   \n",
       "1196        0.0         0                   0            6.0   \n",
       "\n",
       "      actual_productivity  quarter_Quarter1  quarter_Quarter2  \\\n",
       "0                0.940725                 1                 0   \n",
       "1                0.886500                 1                 0   \n",
       "2                0.800570                 1                 0   \n",
       "3                0.800570                 1                 0   \n",
       "4                0.800382                 1                 0   \n",
       "...                   ...               ...               ...   \n",
       "1192             0.628333                 0                 1   \n",
       "1193             0.625625                 0                 1   \n",
       "1194             0.625625                 0                 1   \n",
       "1195             0.505889                 0                 1   \n",
       "1196             0.394722                 0                 1   \n",
       "\n",
       "      quarter_Quarter3  quarter_Quarter4  quarter_Quarter5  \\\n",
       "0                    0                 0                 0   \n",
       "1                    0                 0                 0   \n",
       "2                    0                 0                 0   \n",
       "3                    0                 0                 0   \n",
       "4                    0                 0                 0   \n",
       "...                ...               ...               ...   \n",
       "1192                 0                 0                 0   \n",
       "1193                 0                 0                 0   \n",
       "1194                 0                 0                 0   \n",
       "1195                 0                 0                 0   \n",
       "1196                 0                 0                 0   \n",
       "\n",
       "      department_finishing  department_sweing  month  day_of_week  \n",
       "0                        0                  1      1            3  \n",
       "1                        1                  0      1            3  \n",
       "2                        0                  1      1            3  \n",
       "3                        0                  1      1            3  \n",
       "4                        0                  1      1            3  \n",
       "...                    ...                ...    ...          ...  \n",
       "1192                     1                  0      3            2  \n",
       "1193                     1                  0      3            2  \n",
       "1194                     1                  0      3            2  \n",
       "1195                     1                  0      3            2  \n",
       "1196                     1                  0      3            2  \n",
       "\n",
       "[1197 rows x 20 columns]"
      ]
     },
     "execution_count": 2,
     "metadata": {},
     "output_type": "execute_result"
    }
   ],
   "source": [
    "# Loading the data\n",
    "model_df = pd.read_csv('cleaned_data.csv')\n",
    "model_df"
   ]
  },
  {
   "cell_type": "markdown",
   "metadata": {},
   "source": [
    "### Data Splitting: \n",
    "\n",
    "* Split the data into training and test sets (80% training, 20% testing). \n",
    "\n",
    "* Set the random_state to 42"
   ]
  },
  {
   "cell_type": "code",
   "execution_count": 3,
   "metadata": {},
   "outputs": [],
   "source": [
    "# Split the data into features (X) and target variable (y)\n",
    "X = model_df.drop(columns='actual_productivity', axis=1)\n",
    "y = model_df['actual_productivity']\n",
    "\n",
    "# Perform train-test split\n",
    "X_train, X_test, y_train, y_test = train_test_split(X, y, test_size=0.2, random_state=42)"
   ]
  },
  {
   "cell_type": "markdown",
   "metadata": {},
   "source": [
    "### Model Selection and Training\n",
    "\n",
    "we train multiple regression models to predict productivity:\n",
    "\n",
    "#### * Linear Regression\n",
    "\n",
    "A basic regression model as a base model. "
   ]
  },
  {
   "cell_type": "code",
   "execution_count": 4,
   "metadata": {},
   "outputs": [],
   "source": [
    "# Initialize and train the model\n",
    "lr = LinearRegression()\n",
    "lr.fit(X_train, y_train)\n",
    "\n",
    "# Predict on the test set\n",
    "y_pred_lr = lr.predict(X_test)"
   ]
  },
  {
   "cell_type": "code",
   "execution_count": 5,
   "metadata": {},
   "outputs": [],
   "source": [
    "def evaluate_model(y_test, y_pred, model_name=\"Model\"):\n",
    "    \n",
    "    mae = mean_absolute_error(y_test, y_pred)\n",
    "    mse = mean_squared_error(y_test, y_pred)\n",
    "    rmse = mse ** 0.5  # Root Mean Squared Error\n",
    "    r2 = r2_score(y_test, y_pred)\n",
    "    \n",
    "    # Display the results\n",
    "    print(f\"--- {model_name} Performance ---\")\n",
    "    print(f\"Mean Absolute Error (MAE): {mae:.4f}\")\n",
    "    print(f\"Mean Squared Error (MSE): {mse:.4f}\")\n",
    "    print(f\"Root Mean Squared Error (RMSE): {rmse:.4f}\")\n",
    "    print(f\"R² Score: {r2:.4f}\")\n",
    "    \n",
    "    # Return metrics as a dictionary\n",
    "    #return {\"MAE\": mae, \"MSE\": mse, \"RMSE\": rmse, \"R2\": r2}"
   ]
  },
  {
   "cell_type": "code",
   "execution_count": 6,
   "metadata": {},
   "outputs": [
    {
     "name": "stdout",
     "output_type": "stream",
     "text": [
      "--- Linear Regression Performance ---\n",
      "Mean Absolute Error (MAE): 0.0928\n",
      "Mean Squared Error (MSE): 0.0166\n",
      "Root Mean Squared Error (RMSE): 0.1288\n",
      "R² Score: 0.3376\n"
     ]
    }
   ],
   "source": [
    "# Evaluate on test set\n",
    "test_metrics = evaluate_model(y_test, y_pred_lr, model_name=\"Linear Regression\")\n",
    "test_metrics"
   ]
  },
  {
   "cell_type": "markdown",
   "metadata": {},
   "source": [
    "#### * Ridge and Lasso Regression\n",
    "\n",
    "Regularized linear models to handle multicollinearity and overfitting. \n"
   ]
  },
  {
   "cell_type": "code",
   "execution_count": 7,
   "metadata": {},
   "outputs": [],
   "source": [
    "# Initialize Ridge and Lasso models\n",
    "ridge_model = Ridge(alpha=1.0)  \n",
    "lasso_model = Lasso(alpha=0.1)  \n",
    "\n",
    "# Train the models\n",
    "ridge_model.fit(X_train, y_train)\n",
    "lasso_model.fit(X_train, y_train)\n",
    "\n",
    "# Make predictions\n",
    "y_pred_ridge = ridge_model.predict(X_test)\n",
    "y_pred_lasso = lasso_model.predict(X_test)"
   ]
  },
  {
   "cell_type": "code",
   "execution_count": 8,
   "metadata": {},
   "outputs": [
    {
     "name": "stdout",
     "output_type": "stream",
     "text": [
      "--- Ridge Regression Performance ---\n",
      "Mean Absolute Error (MAE): 0.0931\n",
      "Mean Squared Error (MSE): 0.0165\n",
      "Root Mean Squared Error (RMSE): 0.1286\n",
      "R² Score: 0.3398\n",
      "--- Lasso Regression Performance ---\n",
      "Mean Absolute Error (MAE): 0.1052\n",
      "Mean Squared Error (MSE): 0.0190\n",
      "Root Mean Squared Error (RMSE): 0.1380\n",
      "R² Score: 0.2404\n"
     ]
    }
   ],
   "source": [
    "# Evaluate on test set\n",
    "Ridge_test_metrics = evaluate_model(y_test, y_pred_ridge, model_name=\"Ridge Regression\")\n",
    "Lasso_test_metrics = evaluate_model(y_test, y_pred_lasso, model_name=\"Lasso Regression\")"
   ]
  },
  {
   "cell_type": "markdown",
   "metadata": {},
   "source": [
    "#### * Random Forest Regressor\n",
    "\n",
    "An ensemble model using decision trees for robustness.\n"
   ]
  },
  {
   "cell_type": "code",
   "execution_count": 9,
   "metadata": {},
   "outputs": [],
   "source": [
    "# Initialize the Random Forest Regressor\n",
    "rf_model = RandomForestRegressor(n_estimators=100, random_state=42)\n",
    "\n",
    "# Train the model\n",
    "rf_model.fit(X_train, y_train)\n",
    "\n",
    "# Make predictions\n",
    "y_pred_rfr = rf_model.predict(X_test)"
   ]
  },
  {
   "cell_type": "code",
   "execution_count": 10,
   "metadata": {},
   "outputs": [
    {
     "name": "stdout",
     "output_type": "stream",
     "text": [
      "--- Random Forest Regressor Performance ---\n",
      "Mean Absolute Error (MAE): 0.0673\n",
      "Mean Squared Error (MSE): 0.0112\n",
      "Root Mean Squared Error (RMSE): 0.1057\n",
      "R² Score: 0.5539\n"
     ]
    }
   ],
   "source": [
    "# Evaluate on testing data\n",
    "evaluate_model(y_test, y_pred_rfr, model_name=\"Random Forest Regressor\")"
   ]
  },
  {
   "cell_type": "markdown",
   "metadata": {},
   "source": [
    "#### * Gradient Boosting Regressor\n",
    "\n",
    "A boosting model for iterative accuracy improvement. \n"
   ]
  },
  {
   "cell_type": "code",
   "execution_count": 11,
   "metadata": {},
   "outputs": [],
   "source": [
    "# Initialize the Gradient Boosting Regressor\n",
    "gb_model = GradientBoostingRegressor(n_estimators=100, learning_rate=0.1, max_depth=3, random_state=42)\n",
    "\n",
    "# Train the model\n",
    "gb_model.fit(X_train, y_train)\n",
    "\n",
    "# Make predictions\n",
    "y_pred_gb = gb_model.predict(X_test)"
   ]
  },
  {
   "cell_type": "code",
   "execution_count": 12,
   "metadata": {},
   "outputs": [
    {
     "name": "stdout",
     "output_type": "stream",
     "text": [
      "--- Gradient Boosting (Test) Performance ---\n",
      "Mean Absolute Error (MAE): 0.0761\n",
      "Mean Squared Error (MSE): 0.0134\n",
      "Root Mean Squared Error (RMSE): 0.1159\n",
      "R² Score: 0.4638\n"
     ]
    }
   ],
   "source": [
    "# Evaluate on testing data\n",
    "evaluate_model(y_test, y_pred_gb, model_name=\"Gradient Boosting (Test)\")"
   ]
  },
  {
   "cell_type": "markdown",
   "metadata": {},
   "source": [
    "#### * XGBoost Regressor\n",
    "An advanced boosting algorithm with optimizations for speed and performance. \n"
   ]
  },
  {
   "cell_type": "code",
   "execution_count": 13,
   "metadata": {},
   "outputs": [],
   "source": [
    "# Initialize the XGBoost Regressor\n",
    "xgb_model = XGBRegressor(\n",
    "    n_estimators=100,\n",
    "    learning_rate=0.1,\n",
    "    max_depth=3,\n",
    "    random_state=42,\n",
    "    objective='reg:squarederror'\n",
    ")\n",
    "\n",
    "# Train the model\n",
    "xgb_model.fit(X_train, y_train)\n",
    "\n",
    "# Make predictions\n",
    "y_pred_xgb = xgb_model.predict(X_test)"
   ]
  },
  {
   "cell_type": "code",
   "execution_count": 14,
   "metadata": {},
   "outputs": [
    {
     "name": "stdout",
     "output_type": "stream",
     "text": [
      "--- XGBoost Regressor Performance ---\n",
      "Mean Absolute Error (MAE): 0.0752\n",
      "Mean Squared Error (MSE): 0.0128\n",
      "Root Mean Squared Error (RMSE): 0.1132\n",
      "R² Score: 0.4886\n"
     ]
    }
   ],
   "source": [
    "# Evaluate on testing data\n",
    "evaluate_model(y_test, y_pred_xgb, model_name=\"XGBoost Regressor\")"
   ]
  },
  {
   "cell_type": "markdown",
   "metadata": {},
   "source": [
    "#### * Support Vector Regressor (SVR)\n",
    "A kernel-based model to capture complex relationships\n"
   ]
  },
  {
   "cell_type": "code",
   "execution_count": 15,
   "metadata": {},
   "outputs": [],
   "source": [
    "# Initialize the SVR model\n",
    "svr_model = SVR(kernel='rbf', C=10, epsilon=0.1)\n",
    "\n",
    "# Fit the model\n",
    "svr_model.fit(X_train, y_train.ravel())\n",
    "\n",
    "# Predict on the testing sets\n",
    "y_pred_svr = svr_model.predict(X_test)"
   ]
  },
  {
   "cell_type": "code",
   "execution_count": 16,
   "metadata": {},
   "outputs": [
    {
     "name": "stdout",
     "output_type": "stream",
     "text": [
      "---  SVR  Performance ---\n",
      "Mean Absolute Error (MAE): 0.1069\n",
      "Mean Squared Error (MSE): 0.0192\n",
      "Root Mean Squared Error (RMSE): 0.1386\n",
      "R² Score: 0.2335\n"
     ]
    }
   ],
   "source": [
    "# Evaluate on testing data\n",
    "evaluate_model(y_test, y_pred_svr, model_name=\" SVR \")"
   ]
  },
  {
   "cell_type": "markdown",
   "metadata": {},
   "source": [
    "#### *AdaBoost Regressor\n",
    "\n",
    "An ensemble learning technique that combines multiple weak learners to create a strong model"
   ]
  },
  {
   "cell_type": "code",
   "execution_count": 17,
   "metadata": {},
   "outputs": [],
   "source": [
    "# Initialize the base learner (Decision Tree Regressor)\n",
    "base_learner = DecisionTreeRegressor(max_depth=3)\n",
    "\n",
    "# Initialize AdaBoost Regressor\n",
    "ada_boost_model = AdaBoostRegressor(base_estimator=base_learner, n_estimators=50, learning_rate=0.1)\n",
    "\n",
    "# Fit the model\n",
    "ada_boost_model.fit(X_train, y_train.ravel())\n",
    "\n",
    "# Predict on testing sets\n",
    "y_pred_ada = ada_boost_model.predict(X_test)"
   ]
  },
  {
   "cell_type": "code",
   "execution_count": 18,
   "metadata": {},
   "outputs": [
    {
     "name": "stdout",
     "output_type": "stream",
     "text": [
      "--- AdaBoost  Performance ---\n",
      "Mean Absolute Error (MAE): 0.0907\n",
      "Mean Squared Error (MSE): 0.0150\n",
      "Root Mean Squared Error (RMSE): 0.1223\n",
      "R² Score: 0.4030\n"
     ]
    }
   ],
   "source": [
    "# Evaluate on testing data\n",
    "evaluate_model(y_test, y_pred_ada, model_name=\"AdaBoost \")"
   ]
  },
  {
   "cell_type": "code",
   "execution_count": null,
   "metadata": {},
   "outputs": [],
   "source": []
  }
 ],
 "metadata": {
  "kernelspec": {
   "display_name": "Python (learn-env)",
   "language": "python",
   "name": "learn-env"
  },
  "language_info": {
   "codemirror_mode": {
    "name": "ipython",
    "version": 3
   },
   "file_extension": ".py",
   "mimetype": "text/x-python",
   "name": "python",
   "nbconvert_exporter": "python",
   "pygments_lexer": "ipython3",
   "version": "3.8.5"
  }
 },
 "nbformat": 4,
 "nbformat_minor": 4
}
